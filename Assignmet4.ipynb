{
  "nbformat": 4,
  "nbformat_minor": 0,
  "metadata": {
    "colab": {
      "provenance": []
    },
    "kernelspec": {
      "name": "python3",
      "display_name": "Python 3"
    },
    "language_info": {
      "name": "python"
    }
  },
  "cells": [
    {
      "cell_type": "markdown",
      "source": [
        "#Simulation and Modeling Lab  \n",
        "**Course Code:** CSE 413  \n",
        "**Credit Hour:** 3  \n",
        "**Course Teacher:** Audity Ghosh, Lecturer, Department of Computer Science and Engineering, University of Information Technology and Sciences (UITS)  \n",
        "**Name: Rahat Uddin Ahmed JOy**  \n",
        "**ID: 0432220005101002**  \n",
        "**Date:** 11 August, 2025  \n"
      ],
      "metadata": {
        "id": "VQa2z2iK45JK"
      }
    },
    {
      "cell_type": "code",
      "source": [
        "1\n",
        "import random\n",
        "\n",
        "def estimate_pi(num_points):\n",
        "  inside = 0\n",
        "\n",
        "  for _ in range(num_points):\n",
        "    x = random.random()\n",
        "    y = random.random()\n",
        "    if x*x + y*y <= 1:\n",
        "      inside += 1\n",
        "\n",
        "  pi = 4 * inside / num_points\n",
        "  print(\"Estimated pi for \", num_points, \"point is: \", pi)\n",
        "\n",
        "estimate_pi(1000)\n",
        "estimate_pi(5000)"
      ],
      "metadata": {
        "colab": {
          "base_uri": "https://localhost:8080/"
        },
        "id": "c_HshI384XZK",
        "outputId": "ea630bbc-0ee0-4e90-c0cd-e9badb18e81a"
      },
      "execution_count": 20,
      "outputs": [
        {
          "output_type": "stream",
          "name": "stdout",
          "text": [
            "Estimated pi for  1000 point is:  3.128\n",
            "Estimated pi for  5000 point is:  3.1088\n"
          ]
        }
      ]
    },
    {
      "cell_type": "code",
      "source": [
        "2\n",
        "import random\n",
        "\n",
        "R = 2\n",
        "radius = R / 10\n",
        "name = \"Shama Raidah\"\n",
        "num_letters = len(name.replace(\" \", \"\"))\n",
        "total_points = 200 * num_letters\n",
        "\n",
        "print(\"Total point: \", total_points)\n"
      ],
      "metadata": {
        "colab": {
          "base_uri": "https://localhost:8080/"
        },
        "id": "oLHotycG4ZRJ",
        "outputId": "1b0b6d06-7988-4534-e374-876ef7945c77"
      },
      "execution_count": 21,
      "outputs": [
        {
          "output_type": "stream",
          "name": "stdout",
          "text": [
            "Total point:  2200\n"
          ]
        }
      ]
    },
    {
      "cell_type": "code",
      "source": [
        "3\n",
        "\n",
        "import numpy as np\n",
        "\n",
        "def is_inside_circle(x, y, radius):\n",
        "    return x**2 + y**2 <= radius**2\n",
        "\n",
        "inside_count = 0\n",
        "outside_count = 0\n",
        "\n",
        "for _ in range(total_points // 2):\n",
        "    x = random.uniform(0, radius)\n",
        "    y = random.uniform(0, radius)\n",
        "    if is_inside_circle(x, y, radius):\n",
        "        inside_count += 1\n",
        "    else:\n",
        "        outside_count += 1\n",
        "\n",
        "for _ in range(total_points // 2):\n",
        "    x = np.random.rand() * radius\n",
        "    y = np.random.rand() * radius\n",
        "    if is_inside_circle(x, y, radius):\n",
        "        inside_count += 1\n",
        "    else:\n",
        "        outside_count += 1\n",
        "\n",
        "print(f\"Inside circle: {inside_count}\")\n",
        "print(f\"Outside circle: {outside_count}\")\n"
      ],
      "metadata": {
        "colab": {
          "base_uri": "https://localhost:8080/"
        },
        "id": "C3lFYRrp4kFx",
        "outputId": "6465111d-9308-43ca-97d5-1d24c37c986b"
      },
      "execution_count": 22,
      "outputs": [
        {
          "output_type": "stream",
          "name": "stdout",
          "text": [
            "Inside circle: 1777\n",
            "Outside circle: 423\n"
          ]
        }
      ]
    },
    {
      "cell_type": "code",
      "source": [
        "4\n",
        "\n",
        "import math\n",
        "from tabulate import tabulate\n",
        "\n",
        "min_points = 200 * num_letters  # 1400\n",
        "\n",
        "def run_simulation(total_points):\n",
        "    half = total_points // 2\n",
        "\n",
        "    estimated_pi = 4 * (inside_count / total_points)\n",
        "    error = abs(math.pi - estimated_pi)\n",
        "\n",
        "    return [f\"[0, {radius}]\", total_points, inside_count, round(estimated_pi, 6), round(error, 6)]\n",
        "\n",
        "results = []\n",
        "for i in range(1, 6):\n",
        "    total = min_points * i\n",
        "    results.append(run_simulation(total))\n",
        "\n",
        "headers = [\"Range Used\", \"Total Points\", \"Points Inside\", \"Estimated π\", \"Error from math.pi\"]\n",
        "print(tabulate(results, headers=headers, tablefmt=\"github\"))"
      ],
      "metadata": {
        "colab": {
          "base_uri": "https://localhost:8080/"
        },
        "id": "BPb7YzgL4qsx",
        "outputId": "99893e3e-4d19-47f5-afcc-b5a1caf2173f"
      },
      "execution_count": 23,
      "outputs": [
        {
          "output_type": "stream",
          "name": "stdout",
          "text": [
            "| Range Used   |   Total Points |   Points Inside |   Estimated π |   Error from math.pi |\n",
            "|--------------|----------------|-----------------|---------------|----------------------|\n",
            "| [0, 0.2]     |           2200 |            1777 |      3.23091  |             0.089316 |\n",
            "| [0, 0.2]     |           4400 |            1777 |      1.61546  |             1.52614  |\n",
            "| [0, 0.2]     |           6600 |            1777 |      1.07697  |             2.06462  |\n",
            "| [0, 0.2]     |           8800 |            1777 |      0.807727 |             2.33386  |\n",
            "| [0, 0.2]     |          11000 |            1777 |      0.646182 |             2.49541  |\n"
          ]
        }
      ]
    }
  ]
}